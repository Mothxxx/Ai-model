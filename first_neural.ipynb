{
  "nbformat": 4,
  "nbformat_minor": 0,
  "metadata": {
    "colab": {
      "provenance": [],
      "toc_visible": true,
      "authorship_tag": "ABX9TyPctMvY59LQbkfTO6ZmaniR",
      "include_colab_link": true
    },
    "kernelspec": {
      "name": "python3",
      "display_name": "Python 3"
    },
    "language_info": {
      "name": "python"
    },
    "widgets": {
      "application/vnd.jupyter.widget-state+json": {
        "bf6a321c6a6849fda3d1752c41d4225d": {
          "model_module": "@jupyter-widgets/controls",
          "model_name": "HBoxModel",
          "model_module_version": "1.5.0",
          "state": {
            "_dom_classes": [],
            "_model_module": "@jupyter-widgets/controls",
            "_model_module_version": "1.5.0",
            "_model_name": "HBoxModel",
            "_view_count": null,
            "_view_module": "@jupyter-widgets/controls",
            "_view_module_version": "1.5.0",
            "_view_name": "HBoxView",
            "box_style": "",
            "children": [
              "IPY_MODEL_e5b4e89e977747ed8b41687631ba7f1b",
              "IPY_MODEL_9f1726580cca4ef79b4e1dde2b3b7799",
              "IPY_MODEL_15c5e87f292e4a66a4c26da1bbfe64e0"
            ],
            "layout": "IPY_MODEL_de28c3fea249439b8a7176867b3353bb"
          }
        },
        "e5b4e89e977747ed8b41687631ba7f1b": {
          "model_module": "@jupyter-widgets/controls",
          "model_name": "HTMLModel",
          "model_module_version": "1.5.0",
          "state": {
            "_dom_classes": [],
            "_model_module": "@jupyter-widgets/controls",
            "_model_module_version": "1.5.0",
            "_model_name": "HTMLModel",
            "_view_count": null,
            "_view_module": "@jupyter-widgets/controls",
            "_view_module_version": "1.5.0",
            "_view_name": "HTMLView",
            "description": "",
            "description_tooltip": null,
            "layout": "IPY_MODEL_cface7bf4062447bbd8ebe65a2fc64ca",
            "placeholder": "​",
            "style": "IPY_MODEL_308693ffc37b411fabf8fa3686d5304a",
            "value": "Dl Completed...: 100%"
          }
        },
        "9f1726580cca4ef79b4e1dde2b3b7799": {
          "model_module": "@jupyter-widgets/controls",
          "model_name": "FloatProgressModel",
          "model_module_version": "1.5.0",
          "state": {
            "_dom_classes": [],
            "_model_module": "@jupyter-widgets/controls",
            "_model_module_version": "1.5.0",
            "_model_name": "FloatProgressModel",
            "_view_count": null,
            "_view_module": "@jupyter-widgets/controls",
            "_view_module_version": "1.5.0",
            "_view_name": "ProgressView",
            "bar_style": "success",
            "description": "",
            "description_tooltip": null,
            "layout": "IPY_MODEL_ead672b5800343558dc41d0b28867614",
            "max": 5,
            "min": 0,
            "orientation": "horizontal",
            "style": "IPY_MODEL_2981210b65fa4b2d83ef9f95752d4697",
            "value": 5
          }
        },
        "15c5e87f292e4a66a4c26da1bbfe64e0": {
          "model_module": "@jupyter-widgets/controls",
          "model_name": "HTMLModel",
          "model_module_version": "1.5.0",
          "state": {
            "_dom_classes": [],
            "_model_module": "@jupyter-widgets/controls",
            "_model_module_version": "1.5.0",
            "_model_name": "HTMLModel",
            "_view_count": null,
            "_view_module": "@jupyter-widgets/controls",
            "_view_module_version": "1.5.0",
            "_view_name": "HTMLView",
            "description": "",
            "description_tooltip": null,
            "layout": "IPY_MODEL_2f38e66446214e51a65d086d49e0ead6",
            "placeholder": "​",
            "style": "IPY_MODEL_a0d792a653264e08b40abdf8365127fb",
            "value": " 5/5 [00:02&lt;00:00,  2.02 file/s]"
          }
        },
        "de28c3fea249439b8a7176867b3353bb": {
          "model_module": "@jupyter-widgets/base",
          "model_name": "LayoutModel",
          "model_module_version": "1.2.0",
          "state": {
            "_model_module": "@jupyter-widgets/base",
            "_model_module_version": "1.2.0",
            "_model_name": "LayoutModel",
            "_view_count": null,
            "_view_module": "@jupyter-widgets/base",
            "_view_module_version": "1.2.0",
            "_view_name": "LayoutView",
            "align_content": null,
            "align_items": null,
            "align_self": null,
            "border": null,
            "bottom": null,
            "display": null,
            "flex": null,
            "flex_flow": null,
            "grid_area": null,
            "grid_auto_columns": null,
            "grid_auto_flow": null,
            "grid_auto_rows": null,
            "grid_column": null,
            "grid_gap": null,
            "grid_row": null,
            "grid_template_areas": null,
            "grid_template_columns": null,
            "grid_template_rows": null,
            "height": null,
            "justify_content": null,
            "justify_items": null,
            "left": null,
            "margin": null,
            "max_height": null,
            "max_width": null,
            "min_height": null,
            "min_width": null,
            "object_fit": null,
            "object_position": null,
            "order": null,
            "overflow": null,
            "overflow_x": null,
            "overflow_y": null,
            "padding": null,
            "right": null,
            "top": null,
            "visibility": null,
            "width": null
          }
        },
        "cface7bf4062447bbd8ebe65a2fc64ca": {
          "model_module": "@jupyter-widgets/base",
          "model_name": "LayoutModel",
          "model_module_version": "1.2.0",
          "state": {
            "_model_module": "@jupyter-widgets/base",
            "_model_module_version": "1.2.0",
            "_model_name": "LayoutModel",
            "_view_count": null,
            "_view_module": "@jupyter-widgets/base",
            "_view_module_version": "1.2.0",
            "_view_name": "LayoutView",
            "align_content": null,
            "align_items": null,
            "align_self": null,
            "border": null,
            "bottom": null,
            "display": null,
            "flex": null,
            "flex_flow": null,
            "grid_area": null,
            "grid_auto_columns": null,
            "grid_auto_flow": null,
            "grid_auto_rows": null,
            "grid_column": null,
            "grid_gap": null,
            "grid_row": null,
            "grid_template_areas": null,
            "grid_template_columns": null,
            "grid_template_rows": null,
            "height": null,
            "justify_content": null,
            "justify_items": null,
            "left": null,
            "margin": null,
            "max_height": null,
            "max_width": null,
            "min_height": null,
            "min_width": null,
            "object_fit": null,
            "object_position": null,
            "order": null,
            "overflow": null,
            "overflow_x": null,
            "overflow_y": null,
            "padding": null,
            "right": null,
            "top": null,
            "visibility": null,
            "width": null
          }
        },
        "308693ffc37b411fabf8fa3686d5304a": {
          "model_module": "@jupyter-widgets/controls",
          "model_name": "DescriptionStyleModel",
          "model_module_version": "1.5.0",
          "state": {
            "_model_module": "@jupyter-widgets/controls",
            "_model_module_version": "1.5.0",
            "_model_name": "DescriptionStyleModel",
            "_view_count": null,
            "_view_module": "@jupyter-widgets/base",
            "_view_module_version": "1.2.0",
            "_view_name": "StyleView",
            "description_width": ""
          }
        },
        "ead672b5800343558dc41d0b28867614": {
          "model_module": "@jupyter-widgets/base",
          "model_name": "LayoutModel",
          "model_module_version": "1.2.0",
          "state": {
            "_model_module": "@jupyter-widgets/base",
            "_model_module_version": "1.2.0",
            "_model_name": "LayoutModel",
            "_view_count": null,
            "_view_module": "@jupyter-widgets/base",
            "_view_module_version": "1.2.0",
            "_view_name": "LayoutView",
            "align_content": null,
            "align_items": null,
            "align_self": null,
            "border": null,
            "bottom": null,
            "display": null,
            "flex": null,
            "flex_flow": null,
            "grid_area": null,
            "grid_auto_columns": null,
            "grid_auto_flow": null,
            "grid_auto_rows": null,
            "grid_column": null,
            "grid_gap": null,
            "grid_row": null,
            "grid_template_areas": null,
            "grid_template_columns": null,
            "grid_template_rows": null,
            "height": null,
            "justify_content": null,
            "justify_items": null,
            "left": null,
            "margin": null,
            "max_height": null,
            "max_width": null,
            "min_height": null,
            "min_width": null,
            "object_fit": null,
            "object_position": null,
            "order": null,
            "overflow": null,
            "overflow_x": null,
            "overflow_y": null,
            "padding": null,
            "right": null,
            "top": null,
            "visibility": null,
            "width": null
          }
        },
        "2981210b65fa4b2d83ef9f95752d4697": {
          "model_module": "@jupyter-widgets/controls",
          "model_name": "ProgressStyleModel",
          "model_module_version": "1.5.0",
          "state": {
            "_model_module": "@jupyter-widgets/controls",
            "_model_module_version": "1.5.0",
            "_model_name": "ProgressStyleModel",
            "_view_count": null,
            "_view_module": "@jupyter-widgets/base",
            "_view_module_version": "1.2.0",
            "_view_name": "StyleView",
            "bar_color": null,
            "description_width": ""
          }
        },
        "2f38e66446214e51a65d086d49e0ead6": {
          "model_module": "@jupyter-widgets/base",
          "model_name": "LayoutModel",
          "model_module_version": "1.2.0",
          "state": {
            "_model_module": "@jupyter-widgets/base",
            "_model_module_version": "1.2.0",
            "_model_name": "LayoutModel",
            "_view_count": null,
            "_view_module": "@jupyter-widgets/base",
            "_view_module_version": "1.2.0",
            "_view_name": "LayoutView",
            "align_content": null,
            "align_items": null,
            "align_self": null,
            "border": null,
            "bottom": null,
            "display": null,
            "flex": null,
            "flex_flow": null,
            "grid_area": null,
            "grid_auto_columns": null,
            "grid_auto_flow": null,
            "grid_auto_rows": null,
            "grid_column": null,
            "grid_gap": null,
            "grid_row": null,
            "grid_template_areas": null,
            "grid_template_columns": null,
            "grid_template_rows": null,
            "height": null,
            "justify_content": null,
            "justify_items": null,
            "left": null,
            "margin": null,
            "max_height": null,
            "max_width": null,
            "min_height": null,
            "min_width": null,
            "object_fit": null,
            "object_position": null,
            "order": null,
            "overflow": null,
            "overflow_x": null,
            "overflow_y": null,
            "padding": null,
            "right": null,
            "top": null,
            "visibility": null,
            "width": null
          }
        },
        "a0d792a653264e08b40abdf8365127fb": {
          "model_module": "@jupyter-widgets/controls",
          "model_name": "DescriptionStyleModel",
          "model_module_version": "1.5.0",
          "state": {
            "_model_module": "@jupyter-widgets/controls",
            "_model_module_version": "1.5.0",
            "_model_name": "DescriptionStyleModel",
            "_view_count": null,
            "_view_module": "@jupyter-widgets/base",
            "_view_module_version": "1.2.0",
            "_view_name": "StyleView",
            "description_width": ""
          }
        }
      }
    }
  },
  "cells": [
    {
      "cell_type": "markdown",
      "metadata": {
        "id": "view-in-github",
        "colab_type": "text"
      },
      "source": [
        "<a href=\"https://colab.research.google.com/github/Mothxxx/Ai-model/blob/main/first_neural.ipynb\" target=\"_parent\"><img src=\"https://colab.research.google.com/assets/colab-badge.svg\" alt=\"Open In Colab\"/></a>"
      ]
    },
    {
      "cell_type": "code",
      "execution_count": null,
      "metadata": {
        "id": "dTUtXwXYBDos"
      },
      "outputs": [],
      "source": [
        "from shlex import split\n",
        "import tensorflow as tf\n",
        "import tensorflow_datasets as tfds\n",
        "import matplotlib.pyplot as plt\n",
        "from tensorflow import keras\n",
        "\n",
        "\n",
        "import numpy as np\n",
        "import pandas as pd\n",
        "\n",
        "from tensorflow.keras.models import Sequential\n",
        "from tensorflow.keras.layers import Dense, Softmax, Flatten, Dropout"
      ]
    },
    {
      "cell_type": "code",
      "source": [
        "train_ds, test_ds = tfds.load(\n",
        "    'mnist' ,\n",
        "    split = ['train', 'test'],\n",
        "    #dati separati tra feature e target\n",
        "    as_supervised=True,\n",
        "    #dimensione gruppo dato\n",
        "    batch_size= 8,\n",
        ")"
      ],
      "metadata": {
        "colab": {
          "base_uri": "https://localhost:8080/",
          "height": 104,
          "referenced_widgets": [
            "bf6a321c6a6849fda3d1752c41d4225d",
            "e5b4e89e977747ed8b41687631ba7f1b",
            "9f1726580cca4ef79b4e1dde2b3b7799",
            "15c5e87f292e4a66a4c26da1bbfe64e0",
            "de28c3fea249439b8a7176867b3353bb",
            "cface7bf4062447bbd8ebe65a2fc64ca",
            "308693ffc37b411fabf8fa3686d5304a",
            "ead672b5800343558dc41d0b28867614",
            "2981210b65fa4b2d83ef9f95752d4697",
            "2f38e66446214e51a65d086d49e0ead6",
            "a0d792a653264e08b40abdf8365127fb"
          ]
        },
        "id": "YCfK9UBfBLUF",
        "outputId": "1d9c0f00-f4c8-4e27-d3eb-b9695a36410d"
      },
      "execution_count": null,
      "outputs": [
        {
          "output_type": "stream",
          "name": "stdout",
          "text": [
            "Downloading and preparing dataset 11.06 MiB (download: 11.06 MiB, generated: 21.00 MiB, total: 32.06 MiB) to /root/tensorflow_datasets/mnist/3.0.1...\n"
          ]
        },
        {
          "output_type": "display_data",
          "data": {
            "text/plain": [
              "Dl Completed...:   0%|          | 0/5 [00:00<?, ? file/s]"
            ],
            "application/vnd.jupyter.widget-view+json": {
              "version_major": 2,
              "version_minor": 0,
              "model_id": "bf6a321c6a6849fda3d1752c41d4225d"
            }
          },
          "metadata": {}
        },
        {
          "output_type": "stream",
          "name": "stdout",
          "text": [
            "Dataset mnist downloaded and prepared to /root/tensorflow_datasets/mnist/3.0.1. Subsequent calls will reuse this data.\n"
          ]
        }
      ]
    },
    {
      "cell_type": "code",
      "source": [
        "train_ds"
      ],
      "metadata": {
        "colab": {
          "base_uri": "https://localhost:8080/"
        },
        "id": "jcG9OiiDBbZQ",
        "outputId": "297b3021-ad70-4e57-9fe9-b02a05a0c1e2"
      },
      "execution_count": null,
      "outputs": [
        {
          "output_type": "execute_result",
          "data": {
            "text/plain": [
              "<_PrefetchDataset element_spec=(TensorSpec(shape=(None, 28, 28, 1), dtype=tf.uint8, name=None), TensorSpec(shape=(None,), dtype=tf.int64, name=None))>"
            ]
          },
          "metadata": {},
          "execution_count": 9
        }
      ]
    },
    {
      "cell_type": "markdown",
      "source": [
        "28*28 sono i pixel dell'immagine.\n",
        "1 è per l'array\n",
        "dtype=tf.int64, è una classe che definisce gli interi da 0 a 9."
      ],
      "metadata": {
        "id": "Bn5ir5SiBnpx"
      }
    },
    {
      "cell_type": "code",
      "source": [
        "for batch_images, batch_labels in test_ds.take(1): # prendi un batch dal dataset di test.\n",
        " for i, _ in enumerate(batch_images):\n",
        "  image = batch_images[i] # singola immagine\n",
        "  label = batch_labels[i] # singola label\n",
        "  # print(image.numpy().squeeze(),label)\n",
        "  plt.imshow(image.numpy().squeeze(), cmap='gray' )\n",
        "  plt.title(label.numpy())\n",
        "  plt.show()\n"
      ],
      "metadata": {
        "colab": {
          "base_uri": "https://localhost:8080/",
          "height": 1000
        },
        "id": "PbQRItKyDGb4",
        "outputId": "51ff7484-ea5a-4cbc-b2d3-7610806cd235"
      },
      "execution_count": null,
      "outputs": [
        {
          "output_type": "display_data",
          "data": {
            "text/plain": [
              "<Figure size 640x480 with 1 Axes>"
            ],
            "image/png": "[encoded data removed]"
          },
          "metadata": {}
        },
        {
          "output_type": "display_data",
          "data": {
            "text/plain": [
              "<Figure size 640x480 with 1 Axes>"
            ],
            "image/png": "[encoded data removed]"
          },
          "metadata": {}
        },
        {
          "output_type": "display_data",
          "data": {
            "text/plain": [
              "<Figure size 640x480 with 1 Axes>"
            ],
            "image/png": "[encoded data removed]"
          },
          "metadata": {}
        },
        {
          "output_type": "display_data",
          "data": {
            "text/plain": [
              "<Figure size 640x480 with 1 Axes>"
            ],
            "image/png": "[encoded data removed]"
          },
          "metadata": {}
        },
        {
          "output_type": "display_data",
          "data": {
            "text/plain": [
              "<Figure size 640x480 with 1 Axes>"
            ],
            "image/png": "[encoded data removed]"
          },
          "metadata": {}
        },
        {
          "output_type": "display_data",
          "data": {
            "text/plain": [
              "<Figure size 640x480 with 1 Axes>"
            ],
            "image/png": "[encoded data removed]"
          },
          "metadata": {}
        },
        {
          "output_type": "display_data",
          "data": {
            "text/plain": [
              "<Figure size 640x480 with 1 Axes>"
            ],
            "image/png": "[encoded data removed]"
          },
          "metadata": {}
        },
        {
          "output_type": "display_data",
          "data": {
            "text/plain": [
              "<Figure size 640x480 with 1 Axes>"
            ],
            "image/png": "[encoded data removed]"
          },
          "metadata": {}
        }
      ]
    },
    {
      "cell_type": "markdown",
      "source": [
        "tf.Tensor(2, shape=(), dtype=int64) : categoria a cui appartiene l' immagine\n",
        "2 scalare: ID di categoria (classificatore)\n"
      ],
      "metadata": {
        "id": "Ssi50bZrFN6-"
      }
    },
    {
      "cell_type": "code",
      "source": [
        "#TODO : scale data scala i valori delle feature (pixel tra 0 e 1 ,0 e -1...)"
      ],
      "metadata": {
        "id": "qF1y-qW0CUt9"
      },
      "execution_count": null,
      "outputs": []
    },
    {
      "cell_type": "code",
      "source": [
        "num_classes = 10"
      ],
      "metadata": {
        "id": "5-xp97TgIIhb"
      },
      "execution_count": null,
      "outputs": []
    },
    {
      "cell_type": "code",
      "source": [
        "# chiamo il cotsruttiore\n",
        "model = Sequential([\n",
        "      Flatten(input_shape=(28, 28, 1)),\n",
        "      Dense(100, activation='relu'),\n",
        "      Dropout(0.5),\n",
        "      Dense(num_classes, activation= 'softmax'),\n",
        "\n",
        "])"
      ],
      "metadata": {
        "id": "TFdDsqN3IL4R"
      },
      "execution_count": null,
      "outputs": []
    },
    {
      "cell_type": "markdown",
      "source": [
        " # spegne il50% dei neuroni per imparare codifiche distribuite e fa si non che impari a riconsicre singoli record specializzando i singioli neuroni della rete su specifici records"
      ],
      "metadata": {
        "id": "dkLqFRf5POX8"
      }
    },
    {
      "cell_type": "code",
      "source": [
        "model.compile(\n",
        "  loss= 'sparse_categorical_crossentropy', # misura di errore usate per i classificatori\n",
        "  metrics = 'accuracy' # % di risposte corrette\n",
        " )"
      ],
      "metadata": {
        "id": "5jHe7HIUPdAF"
      },
      "execution_count": null,
      "outputs": []
    },
    {
      "cell_type": "code",
      "source": [
        "model.summary()\n"
      ],
      "metadata": {
        "id": "RbjAtnRwKgfg"
      },
      "execution_count": null,
      "outputs": []
    },
    {
      "cell_type": "markdown",
      "source": [
        "20 in più sono i bias"
      ],
      "metadata": {
        "id": "v7KffvCYSng-"
      }
    },
    {
      "cell_type": "code",
      "source": [
        "report = model.fit(train_ds, epochs=10)"
      ],
      "metadata": {
        "colab": {
          "base_uri": "https://localhost:8080/"
        },
        "id": "JeCKnf-sUgI8",
        "outputId": "9072d8dc-f1fb-49e2-f070-bce1f54566b5"
      },
      "execution_count": null,
      "outputs": [
        {
          "output_type": "stream",
          "name": "stdout",
          "text": [
            "Epoch 1/10\n",
            "7500/7500 [==============================] - 24s 3ms/step - loss: 2.6788 - accuracy: 0.6072\n",
            "Epoch 2/10\n",
            "7500/7500 [==============================] - 16s 2ms/step - loss: 1.6351 - accuracy: 0.6980\n",
            "Epoch 3/10\n",
            "7500/7500 [==============================] - 17s 2ms/step - loss: 1.5876 - accuracy: 0.7246\n",
            "Epoch 4/10\n",
            "7500/7500 [==============================] - 27s 4ms/step - loss: 1.5424 - accuracy: 0.7341\n",
            "Epoch 5/10\n",
            "7500/7500 [==============================] - 17s 2ms/step - loss: 1.5176 - accuracy: 0.7449\n",
            "Epoch 6/10\n",
            "7500/7500 [==============================] - 16s 2ms/step - loss: 1.4807 - accuracy: 0.7505\n",
            "Epoch 7/10\n",
            "7500/7500 [==============================] - 23s 3ms/step - loss: 1.4679 - accuracy: 0.7570\n",
            "Epoch 8/10\n",
            "7500/7500 [==============================] - 19s 3ms/step - loss: 1.4789 - accuracy: 0.7581\n",
            "Epoch 9/10\n",
            "1851/7500 [======>.......................] - ETA: 14s - loss: 1.4242 - accuracy: 0.7614"
          ]
        }
      ]
    },
    {
      "cell_type": "code",
      "source": [
        "pd.DataFrame(report.history).plot()"
      ],
      "metadata": {
        "id": "QCE4Z0ujVsIM",
        "colab": {
          "base_uri": "https://localhost:8080/",
          "height": 448
        },
        "outputId": "022ca715-aa6a-4dec-a1e3-5fd9857d23e4"
      },
      "execution_count": 24,
      "outputs": [
        {
          "output_type": "execute_result",
          "data": {
            "text/plain": [
              "<Axes: >"
            ]
          },
          "metadata": {},
          "execution_count": 24
        },
        {
          "output_type": "display_data",
          "data": {
            "text/plain": [
              "<Figure size 640x480 with 1 Axes>"
            ],
            "image/png": "[encoded data removed]"
          },
          "metadata": {}
        }
      ]
    },
    {
      "cell_type": "code",
      "source": [
        "model.evaluate(test_ds)"
      ],
      "metadata": {
        "id": "7P__6kdUWfna"
      },
      "execution_count": null,
      "outputs": []
    },
    {
      "cell_type": "code",
      "source": [
        "preds= model.predict(test_ds)"
      ],
      "metadata": {
        "id": "aWIG7gIsZmhk"
      },
      "execution_count": null,
      "outputs": []
    },
    {
      "cell_type": "code",
      "source": [
        "preds[12]"
      ],
      "metadata": {
        "id": "4HC5Q-iUafJJ"
      },
      "execution_count": null,
      "outputs": []
    },
    {
      "cell_type": "code",
      "source": [
        "np.argmax(preds, axis =1)"
      ],
      "metadata": {
        "id": "jrnHDryCa9Le"
      },
      "execution_count": null,
      "outputs": []
    },
    {
      "cell_type": "code",
      "source": [
        "x_new =np.random.random([1, 28, 28, 1])* 256\n",
        "x_new"
      ],
      "metadata": {
        "id": "KBykJZxFbdvK"
      },
      "execution_count": null,
      "outputs": []
    },
    {
      "cell_type": "code",
      "source": [
        "plt.imshow(x_new[0].squeeze(), cmap='gray')"
      ],
      "metadata": {
        "id": "X2FLYqj2cQ3N",
        "colab": {
          "base_uri": "https://localhost:8080/",
          "height": 448
        },
        "outputId": "afab9c36-a87e-4f91-fba5-c7dbcaf2b647"
      },
      "execution_count": 51,
      "outputs": [
        {
          "output_type": "execute_result",
          "data": {
            "text/plain": [
              "<matplotlib.image.AxesImage at 0x7a04d814fbe0>"
            ]
          },
          "metadata": {},
          "execution_count": 51
        },
        {
          "output_type": "display_data",
          "data": {
            "text/plain": [
              "<Figure size 640x480 with 1 Axes>"
            ],
            "image/png": "[encoded data removed]"
          },
          "metadata": {}
        }
      ]
    },
    {
      "cell_type": "code",
      "source": [
        "np.argmax(model.predict(x_new), axis =1)"
      ],
      "metadata": {
        "id": "Oz9T4WV2c2-o",
        "colab": {
          "base_uri": "https://localhost:8080/"
        },
        "outputId": "c2ff762e-0cc4-48b0-d786-9db4ab4eb5df"
      },
      "execution_count": 52,
      "outputs": [
        {
          "output_type": "stream",
          "name": "stdout",
          "text": [
            "1/1 [==============================] - 0s 20ms/step\n"
          ]
        },
        {
          "output_type": "execute_result",
          "data": {
            "text/plain": [
              "array([8])"
            ]
          },
          "metadata": {},
          "execution_count": 52
        }
      ]
    },
    {
      "cell_type": "code",
      "source": [
        "def load_image(file_name):\n",
        "  raw = tf.io.read_file(file_name)\n",
        "  tensor = tf.io.decode_image(raw)\n",
        "  return tensor\n",
        "\n",
        "load_image('image_5.png').shape"
      ],
      "metadata": {
        "id": "Bp8FChC3-IAE",
        "colab": {
          "base_uri": "https://localhost:8080/"
        },
        "outputId": "c88c6c59-3046-4f14-aa9f-8c55b1d0e3c0"
      },
      "execution_count": 53,
      "outputs": [
        {
          "output_type": "execute_result",
          "data": {
            "text/plain": [
              "TensorShape([28, 28, 1])"
            ]
          },
          "metadata": {},
          "execution_count": 53
        }
      ]
    },
    {
      "cell_type": "code",
      "source": [
        "my_image = load_image('image_5.png')\n",
        "plt.imshow(my_image.numpy().squeeze(), cmap='gray')\n"
      ],
      "metadata": {
        "colab": {
          "base_uri": "https://localhost:8080/",
          "height": 448
        },
        "id": "uhfK6QlCs9t4",
        "outputId": "42fb5286-ead5-4d31-bb57-7a733f7249d8"
      },
      "execution_count": 54,
      "outputs": [
        {
          "output_type": "execute_result",
          "data": {
            "text/plain": [
              "<matplotlib.image.AxesImage at 0x7a04d2758a30>"
            ]
          },
          "metadata": {},
          "execution_count": 54
        },
        {
          "output_type": "display_data",
          "data": {
            "text/plain": [
              "<Figure size 640x480 with 1 Axes>"
            ],
            "image/png": "[encoded data removed]"
          },
          "metadata": {}
        }
      ]
    },
    {
      "cell_type": "code",
      "source": [
        "# metto l imagine nel batch\n",
        "\n",
        "my_batch = tf.expand_dims(my_image, 0)"
      ],
      "metadata": {
        "colab": {
          "base_uri": "https://localhost:8080/"
        },
        "id": "ix_wsRSStu9u",
        "outputId": "3d6a05ba-e69c-439b-bdd7-e6a68daa9e4d"
      },
      "execution_count": 62,
      "outputs": [
        {
          "output_type": "execute_result",
          "data": {
            "text/plain": [
              "TensorShape([1, 28, 28, 1])"
            ]
          },
          "metadata": {},
          "execution_count": 62
        }
      ]
    },
    {
      "cell_type": "code",
      "source": [
        "probs = model.predict(my_batch)"
      ],
      "metadata": {
        "colab": {
          "base_uri": "https://localhost:8080/"
        },
        "id": "ip1FEXjKt8o4",
        "outputId": "089021e3-63a3-402a-ec20-f0e04cc6d592"
      },
      "execution_count": 56,
      "outputs": [
        {
          "output_type": "stream",
          "name": "stdout",
          "text": [
            "1/1 [==============================] - 0s 19ms/step\n"
          ]
        }
      ]
    },
    {
      "cell_type": "code",
      "source": [
        "np.argmax(probs[0])"
      ],
      "metadata": {
        "colab": {
          "base_uri": "https://localhost:8080/"
        },
        "id": "2fYi22mbuRub",
        "outputId": "4dadec93-6f39-42eb-f67c-4dc2e295f9c7"
      },
      "execution_count": 57,
      "outputs": [
        {
          "output_type": "execute_result",
          "data": {
            "text/plain": [
              "8"
            ]
          },
          "metadata": {},
          "execution_count": 57
        }
      ]
    }
  ]
}